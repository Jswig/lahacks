{
 "cells": [
  {
   "cell_type": "code",
   "execution_count": 2,
   "metadata": {},
   "outputs": [],
   "source": [
    "import pandas as pd"
   ]
  },
  {
   "cell_type": "code",
   "execution_count": 3,
   "metadata": {},
   "outputs": [],
   "source": [
    "df = pd.read_csv('../data/Traffic_Collision_Data_from_2010_to_Present.csv', delimiter=',')"
   ]
  },
  {
   "cell_type": "code",
   "execution_count": 4,
   "metadata": {
    "scrolled": true
   },
   "outputs": [
    {
     "data": {
      "text/plain": [
       "0         False\n",
       "1         False\n",
       "2         False\n",
       "3         False\n",
       "4         False\n",
       "          ...  \n",
       "519650    False\n",
       "519651    False\n",
       "519652    False\n",
       "519653    False\n",
       "519654    False\n",
       "Name: Location, Length: 519655, dtype: bool"
      ]
     },
     "execution_count": 4,
     "metadata": {},
     "output_type": "execute_result"
    }
   ],
   "source": [
    "# Location, Date reported, date occurred, area name, premise desc\n",
    "\n",
    "# Victim age, sex, descent for biased analysis\n",
    "df['Location'][:] == '(0.0, 0.0)'"
   ]
  },
  {
   "cell_type": "code",
   "execution_count": 5,
   "metadata": {
    "scrolled": true
   },
   "outputs": [],
   "source": [
    "# Biased analysis\n",
    "biased_analysis = {\n",
    "    'area_name':df['Area Name'],\n",
    "    'crime_code':df['Crime Code'],\n",
    "    'victim_age':df['Victim Age'],\n",
    "    'victim_sex':df['Victim Sex'],\n",
    "    'victim_race':df['Victim Descent']\n",
    "}\n",
    "df_biased = pd.DataFrame(biased_analysis)"
   ]
  },
  {
   "cell_type": "code",
   "execution_count": 6,
   "metadata": {},
   "outputs": [],
   "source": [
    "# Parse coordinates into distinct variables\n",
    "str_coord = []\n",
    "for i in range(len(df['Location'])):\n",
    "    temp_str = df['Location'][i].replace('(', '').replace(')', '').replace(',', '').split(' ')\n",
    "    temp_coord = [float(x) for x in temp_str]\n",
    "    str_coord.append([x for x in reversed(temp_coord)])\n",
    " \n",
    "lon = [x[0] for x in str_coord]\n",
    "lat = [x[1] for x in str_coord]\n",
    "\n",
    "\n",
    "f = {\n",
    "    'date_occur':df['Date Occurred'],\n",
    "    'time_occur':df['Time Occurred'],\n",
    "    'num_of_accidents':df['Area ID'],\n",
    "    'location':str_coord,\n",
    "    'longitude':lon,\n",
    "    'latitude':lat,\n",
    "    'str_location':df['Location']\n",
    "    }\n",
    "data = pd.DataFrame(f)"
   ]
  },
  {
   "cell_type": "code",
   "execution_count": 7,
   "metadata": {
    "scrolled": true
   },
   "outputs": [],
   "source": [
    "# Drop all 0, 0 coordinates\n",
    "# data.groupby('longitude').count()['num_of_accidents']\n",
    "\n",
    "track_zero_index = []\n",
    "for i in range(len(data)):\n",
    "    if (data['latitude'][i], data['longitude'][i]) == (0.0, 0.0):\n",
    "        track_zero_index.append(i)\n",
    "        \n",
    "# Remove indices\n",
    "data = data.drop(track_zero_index)"
   ]
  },
  {
   "cell_type": "code",
   "execution_count": null,
   "metadata": {},
   "outputs": [],
   "source": []
  },
  {
   "cell_type": "code",
   "execution_count": 8,
   "metadata": {
    "scrolled": true
   },
   "outputs": [
    {
     "data": {
      "text/html": [
       "<div>\n",
       "<style scoped>\n",
       "    .dataframe tbody tr th:only-of-type {\n",
       "        vertical-align: middle;\n",
       "    }\n",
       "\n",
       "    .dataframe tbody tr th {\n",
       "        vertical-align: top;\n",
       "    }\n",
       "\n",
       "    .dataframe thead th {\n",
       "        text-align: right;\n",
       "    }\n",
       "</style>\n",
       "<table border=\"1\" class=\"dataframe\">\n",
       "  <thead>\n",
       "    <tr style=\"text-align: right;\">\n",
       "      <th></th>\n",
       "      <th>date_occur</th>\n",
       "      <th>time_occur</th>\n",
       "      <th>num_of_accidents</th>\n",
       "      <th>location</th>\n",
       "      <th>longitude</th>\n",
       "      <th>latitude</th>\n",
       "      <th>str_location</th>\n",
       "    </tr>\n",
       "  </thead>\n",
       "  <tbody>\n",
       "    <tr>\n",
       "      <th>0</th>\n",
       "      <td>05/18/2019</td>\n",
       "      <td>110</td>\n",
       "      <td>2</td>\n",
       "      <td>[-118.2731, 34.0508]</td>\n",
       "      <td>-118.2731</td>\n",
       "      <td>34.0508</td>\n",
       "      <td>(34.0508, -118.2731)</td>\n",
       "    </tr>\n",
       "    <tr>\n",
       "      <th>1</th>\n",
       "      <td>10/11/2011</td>\n",
       "      <td>1735</td>\n",
       "      <td>5</td>\n",
       "      <td>[-118.2905, 33.8542]</td>\n",
       "      <td>-118.2905</td>\n",
       "      <td>33.8542</td>\n",
       "      <td>(33.8542, -118.2905)</td>\n",
       "    </tr>\n",
       "    <tr>\n",
       "      <th>2</th>\n",
       "      <td>08/09/2018</td>\n",
       "      <td>1830</td>\n",
       "      <td>6</td>\n",
       "      <td>[-118.3252, 34.1052]</td>\n",
       "      <td>-118.3252</td>\n",
       "      <td>34.1052</td>\n",
       "      <td>(34.1052, -118.3252)</td>\n",
       "    </tr>\n",
       "    <tr>\n",
       "      <th>3</th>\n",
       "      <td>05/09/2012</td>\n",
       "      <td>845</td>\n",
       "      <td>3</td>\n",
       "      <td>[-118.3548, 34.0255]</td>\n",
       "      <td>-118.3548</td>\n",
       "      <td>34.0255</td>\n",
       "      <td>(34.0255, -118.3548)</td>\n",
       "    </tr>\n",
       "    <tr>\n",
       "      <th>4</th>\n",
       "      <td>06/13/2012</td>\n",
       "      <td>745</td>\n",
       "      <td>12</td>\n",
       "      <td>[-118.2827, 33.9997]</td>\n",
       "      <td>-118.2827</td>\n",
       "      <td>33.9997</td>\n",
       "      <td>(33.9997, -118.2827)</td>\n",
       "    </tr>\n",
       "    <tr>\n",
       "      <th>...</th>\n",
       "      <td>...</td>\n",
       "      <td>...</td>\n",
       "      <td>...</td>\n",
       "      <td>...</td>\n",
       "      <td>...</td>\n",
       "      <td>...</td>\n",
       "      <td>...</td>\n",
       "    </tr>\n",
       "    <tr>\n",
       "      <th>519650</th>\n",
       "      <td>04/24/2019</td>\n",
       "      <td>925</td>\n",
       "      <td>20</td>\n",
       "      <td>[-118.2916, 34.0598]</td>\n",
       "      <td>-118.2916</td>\n",
       "      <td>34.0598</td>\n",
       "      <td>(34.0598, -118.2916)</td>\n",
       "    </tr>\n",
       "    <tr>\n",
       "      <th>519651</th>\n",
       "      <td>05/07/2019</td>\n",
       "      <td>1845</td>\n",
       "      <td>20</td>\n",
       "      <td>[-118.3128, 34.069]</td>\n",
       "      <td>-118.3128</td>\n",
       "      <td>34.0690</td>\n",
       "      <td>(34.069, -118.3128)</td>\n",
       "    </tr>\n",
       "    <tr>\n",
       "      <th>519652</th>\n",
       "      <td>05/06/2019</td>\n",
       "      <td>2300</td>\n",
       "      <td>21</td>\n",
       "      <td>[-118.5951, 34.2282]</td>\n",
       "      <td>-118.5951</td>\n",
       "      <td>34.2282</td>\n",
       "      <td>(34.2282, -118.5951)</td>\n",
       "    </tr>\n",
       "    <tr>\n",
       "      <th>519653</th>\n",
       "      <td>03/17/2019</td>\n",
       "      <td>1600</td>\n",
       "      <td>21</td>\n",
       "      <td>[-118.6015, 34.1878]</td>\n",
       "      <td>-118.6015</td>\n",
       "      <td>34.1878</td>\n",
       "      <td>(34.1878, -118.6015)</td>\n",
       "    </tr>\n",
       "    <tr>\n",
       "      <th>519654</th>\n",
       "      <td>04/21/2019</td>\n",
       "      <td>913</td>\n",
       "      <td>21</td>\n",
       "      <td>[-118.5623, 34.1938]</td>\n",
       "      <td>-118.5623</td>\n",
       "      <td>34.1938</td>\n",
       "      <td>(34.1938, -118.5623)</td>\n",
       "    </tr>\n",
       "  </tbody>\n",
       "</table>\n",
       "<p>519291 rows × 7 columns</p>\n",
       "</div>"
      ],
      "text/plain": [
       "        date_occur  time_occur  num_of_accidents              location  \\\n",
       "0       05/18/2019         110                 2  [-118.2731, 34.0508]   \n",
       "1       10/11/2011        1735                 5  [-118.2905, 33.8542]   \n",
       "2       08/09/2018        1830                 6  [-118.3252, 34.1052]   \n",
       "3       05/09/2012         845                 3  [-118.3548, 34.0255]   \n",
       "4       06/13/2012         745                12  [-118.2827, 33.9997]   \n",
       "...            ...         ...               ...                   ...   \n",
       "519650  04/24/2019         925                20  [-118.2916, 34.0598]   \n",
       "519651  05/07/2019        1845                20   [-118.3128, 34.069]   \n",
       "519652  05/06/2019        2300                21  [-118.5951, 34.2282]   \n",
       "519653  03/17/2019        1600                21  [-118.6015, 34.1878]   \n",
       "519654  04/21/2019         913                21  [-118.5623, 34.1938]   \n",
       "\n",
       "        longitude  latitude          str_location  \n",
       "0       -118.2731   34.0508  (34.0508, -118.2731)  \n",
       "1       -118.2905   33.8542  (33.8542, -118.2905)  \n",
       "2       -118.3252   34.1052  (34.1052, -118.3252)  \n",
       "3       -118.3548   34.0255  (34.0255, -118.3548)  \n",
       "4       -118.2827   33.9997  (33.9997, -118.2827)  \n",
       "...           ...       ...                   ...  \n",
       "519650  -118.2916   34.0598  (34.0598, -118.2916)  \n",
       "519651  -118.3128   34.0690   (34.069, -118.3128)  \n",
       "519652  -118.5951   34.2282  (34.2282, -118.5951)  \n",
       "519653  -118.6015   34.1878  (34.1878, -118.6015)  \n",
       "519654  -118.5623   34.1938  (34.1938, -118.5623)  \n",
       "\n",
       "[519291 rows x 7 columns]"
      ]
     },
     "execution_count": 8,
     "metadata": {},
     "output_type": "execute_result"
    }
   ],
   "source": [
    "data"
   ]
  },
  {
   "cell_type": "code",
   "execution_count": 9,
   "metadata": {
    "scrolled": false
   },
   "outputs": [
    {
     "data": {
      "text/plain": [
       "<matplotlib.axes._subplots.AxesSubplot at 0x1292f7350>"
      ]
     },
     "execution_count": 9,
     "metadata": {},
     "output_type": "execute_result"
    }
   ],
   "source": [
    "import seaborn as sns\n",
    "sns.distplot(data['latitude'], kde=False, hist=True, hist_kws={\"range\": [33.25,34.75]})"
   ]
  },
  {
   "cell_type": "code",
   "execution_count": 10,
   "metadata": {},
   "outputs": [
    {
     "data": {
      "text/plain": [
       "<matplotlib.axes._subplots.AxesSubplot at 0x11f89c090>"
      ]
     },
     "execution_count": 10,
     "metadata": {},
     "output_type": "execute_result"
    },
    {
     "data": {
      "image/png": "[encoded data removed]",
      "text/plain": [
       "<Figure size 432x288 with 1 Axes>"
      ]
     },
     "metadata": {
      "needs_background": "light"
     },
     "output_type": "display_data"
    }
   ],
   "source": [
    "sns.distplot(data['longitude'], kde=False, hist=True, hist_kws={\"range\": [-119,-118]})"
   ]
  },
  {
   "cell_type": "code",
   "execution_count": 11,
   "metadata": {},
   "outputs": [],
   "source": [
    "import plotly.express as px\n",
    "fig = px.density_mapbox(data, lat='latitude', lon='longitude', radius=10,\n",
    "                        center=dict(lat=0, lon=180), zoom=0,\n",
    "                        mapbox_style=\"stamen-terrain\")\n",
    "# fig.show()"
   ]
  },
  {
   "cell_type": "code",
   "execution_count": 12,
   "metadata": {},
   "outputs": [],
   "source": [
    "x = data.groupby('str_location').count()['num_of_accidents']"
   ]
  },
  {
   "cell_type": "code",
   "execution_count": 13,
   "metadata": {},
   "outputs": [],
   "source": [
    "keys = x.keys().tolist()\n",
    "values = [i for i in x]"
   ]
  },
  {
   "cell_type": "code",
   "execution_count": 14,
   "metadata": {},
   "outputs": [],
   "source": [
    "final_f = {'location': keys, 'number_of_accidents': values}\n",
    "final_df = pd.DataFrame(final_f)"
   ]
  },
  {
   "cell_type": "code",
   "execution_count": 15,
   "metadata": {
    "scrolled": true
   },
   "outputs": [
    {
     "data": {
      "text/html": [
       "<div>\n",
       "<style scoped>\n",
       "    .dataframe tbody tr th:only-of-type {\n",
       "        vertical-align: middle;\n",
       "    }\n",
       "\n",
       "    .dataframe tbody tr th {\n",
       "        vertical-align: top;\n",
       "    }\n",
       "\n",
       "    .dataframe thead th {\n",
       "        text-align: right;\n",
       "    }\n",
       "</style>\n",
       "<table border=\"1\" class=\"dataframe\">\n",
       "  <thead>\n",
       "    <tr style=\"text-align: right;\">\n",
       "      <th></th>\n",
       "      <th>location</th>\n",
       "      <th>number_of_accidents</th>\n",
       "    </tr>\n",
       "  </thead>\n",
       "  <tbody>\n",
       "    <tr>\n",
       "      <th>0</th>\n",
       "      <td>(33.3427, -118.3258)</td>\n",
       "      <td>2</td>\n",
       "    </tr>\n",
       "    <tr>\n",
       "      <th>1</th>\n",
       "      <td>(33.7065, -118.2879)</td>\n",
       "      <td>1</td>\n",
       "    </tr>\n",
       "    <tr>\n",
       "      <th>2</th>\n",
       "      <td>(33.7065, -118.2928)</td>\n",
       "      <td>20</td>\n",
       "    </tr>\n",
       "    <tr>\n",
       "      <th>3</th>\n",
       "      <td>(33.7067, -118.2879)</td>\n",
       "      <td>4</td>\n",
       "    </tr>\n",
       "    <tr>\n",
       "      <th>4</th>\n",
       "      <td>(33.707, -118.2901)</td>\n",
       "      <td>1</td>\n",
       "    </tr>\n",
       "    <tr>\n",
       "      <th>...</th>\n",
       "      <td>...</td>\n",
       "      <td>...</td>\n",
       "    </tr>\n",
       "    <tr>\n",
       "      <th>41824</th>\n",
       "      <td>(34.3797, -118.5286)</td>\n",
       "      <td>1</td>\n",
       "    </tr>\n",
       "    <tr>\n",
       "      <th>41825</th>\n",
       "      <td>(34.5957, -118.1784)</td>\n",
       "      <td>5</td>\n",
       "    </tr>\n",
       "    <tr>\n",
       "      <th>41826</th>\n",
       "      <td>(34.6012, -118.1605)</td>\n",
       "      <td>1</td>\n",
       "    </tr>\n",
       "    <tr>\n",
       "      <th>41827</th>\n",
       "      <td>(34.6903, -118.3053)</td>\n",
       "      <td>1</td>\n",
       "    </tr>\n",
       "    <tr>\n",
       "      <th>41828</th>\n",
       "      <td>(34.692, -118.1746)</td>\n",
       "      <td>1</td>\n",
       "    </tr>\n",
       "  </tbody>\n",
       "</table>\n",
       "<p>41829 rows × 2 columns</p>\n",
       "</div>"
      ],
      "text/plain": [
       "                   location  number_of_accidents\n",
       "0      (33.3427, -118.3258)                    2\n",
       "1      (33.7065, -118.2879)                    1\n",
       "2      (33.7065, -118.2928)                   20\n",
       "3      (33.7067, -118.2879)                    4\n",
       "4       (33.707, -118.2901)                    1\n",
       "...                     ...                  ...\n",
       "41824  (34.3797, -118.5286)                    1\n",
       "41825  (34.5957, -118.1784)                    5\n",
       "41826  (34.6012, -118.1605)                    1\n",
       "41827  (34.6903, -118.3053)                    1\n",
       "41828   (34.692, -118.1746)                    1\n",
       "\n",
       "[41829 rows x 2 columns]"
      ]
     },
     "execution_count": 15,
     "metadata": {},
     "output_type": "execute_result"
    }
   ],
   "source": [
    "final_df"
   ]
  },
  {
   "cell_type": "code",
   "execution_count": null,
   "metadata": {},
   "outputs": [],
   "source": []
  },
  {
   "cell_type": "code",
   "execution_count": null,
   "metadata": {},
   "outputs": [],
   "source": []
  },
  {
   "cell_type": "code",
   "execution_count": null,
   "metadata": {},
   "outputs": [],
   "source": []
  }
 ],
 "metadata": {
  "kernelspec": {
   "display_name": "Python 3",
   "language": "python",
   "name": "python3"
  },
  "language_info": {
   "codemirror_mode": {
    "name": "ipython",
    "version": 3
   },
   "file_extension": ".py",
   "mimetype": "text/x-python",
   "name": "python",
   "nbconvert_exporter": "python",
   "pygments_lexer": "ipython3",
   "version": "3.7.5"
  }
 },
 "nbformat": 4,
 "nbformat_minor": 4
}
